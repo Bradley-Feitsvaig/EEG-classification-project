{
 "cells": [
  {
   "cell_type": "code",
   "execution_count": 1,
   "id": "dd0f9b03",
   "metadata": {},
   "outputs": [],
   "source": [
    "import os\n",
    "import scipy.io\n",
    "import numpy as np\n",
    "import pandas as pd\n",
    "from sklearn.metrics import normalized_mutual_info_score\n",
    "from sklearn.model_selection import train_test_split\n",
    "from sklearn.model_selection import GridSearchCV\n",
    "from sklearn.svm import SVC\n",
    "from sklearn.neighbors import KNeighborsClassifier\n",
    "from sklearn.manifold import TSNE\n",
    "\n",
    "parent_dir=os.getcwd()"
   ]
  },
  {
   "cell_type": "markdown",
   "id": "be1d6553",
   "metadata": {},
   "source": [
    "# Data preproccessing"
   ]
  },
  {
   "cell_type": "markdown",
   "id": "8ea74488",
   "metadata": {},
   "source": [
    "1)Find the lowest number of rows among all subjects(child's EEG data)."
   ]
  },
  {
   "cell_type": "code",
   "execution_count": 2,
   "id": "1d00ed60",
   "metadata": {},
   "outputs": [],
   "source": [
    "def number_of_rows(directory):\n",
    "    rows = []\n",
    "    for file in sorted(os.listdir(directory)):\n",
    "        data = scipy.io.loadmat(directory + file)\n",
    "        keys = list(data.keys())\n",
    "        rows.append(len(data[keys[3]]))\n",
    "    return rows"
   ]
  },
  {
   "cell_type": "code",
   "execution_count": 3,
   "id": "c6715bcd",
   "metadata": {},
   "outputs": [
    {
     "name": "stdout",
     "output_type": "stream",
     "text": [
      "Minimum rows number:  7983\n"
     ]
    }
   ],
   "source": [
    "row_sizes = []\n",
    "num_rows = []\n",
    "path = parent_dir + \"\\\\DATAFORCOURSE\\\\\"\n",
    "types = [\"adhd\\\\\", \"control\\\\\"]\n",
    "for type in types:\n",
    "    directory = path + type\n",
    "    num_rows = number_of_rows(directory)\n",
    "    row_sizes.append(num_rows)\n",
    "row_sizes = list(np.concatenate(row_sizes).flat)\n",
    "min_number_of_rows = min(row_sizes)\n",
    "print(\"Minimum rows number: \", min_number_of_rows)"
   ]
  },
  {
   "cell_type": "markdown",
   "id": "2bf1436d",
   "metadata": {},
   "source": [
    "2)Load data from mat files into matrix"
   ]
  },
  {
   "cell_type": "code",
   "execution_count": 4,
   "id": "f8791d96",
   "metadata": {},
   "outputs": [],
   "source": [
    "def load_from_mat_file_into_matrix(directory):\n",
    "    matrices = []\n",
    "    for file in sorted(os.listdir(directory)):\n",
    "        data = scipy.io.loadmat(directory + file)\n",
    "        keys = list(data.keys())\n",
    "        data_array = np.array(data[keys[3]][0:min_number_of_rows])\n",
    "        matrices.append(data_array)\n",
    "    return matrices"
   ]
  },
  {
   "cell_type": "code",
   "execution_count": 5,
   "id": "c2110b95",
   "metadata": {},
   "outputs": [],
   "source": [
    "adhd = load_from_mat_file_into_matrix(path + types[0])\n",
    "control = load_from_mat_file_into_matrix(path + types[1])"
   ]
  },
  {
   "cell_type": "markdown",
   "id": "05a91300",
   "metadata": {},
   "source": [
    "4)Calculating mutual information between 19 channels (features) of each child.\n",
    "\n",
    "Done by sklearn.metrics.normalized_mutual_info_score.\n",
    "\n",
    "This is useful to measure the agreement of two independent label assignments strategies on the same dataset when the real ground truth is not known.\n",
    "\n",
    "In this function, mutual information is normalized by some generalized mean of H(labels_true) and H(labels_pred)), defined by the average_method (default=’arithmetic’).\n",
    "\n",
    "https://scikit-learn.org/stable/modules/generated/sklearn.metrics.normalized_mutual_info_score.html#sklearn.metrics.normalized_mutual_info_score"
   ]
  },
  {
   "cell_type": "code",
   "execution_count": 6,
   "id": "5b2fc6ea",
   "metadata": {},
   "outputs": [],
   "source": [
    "def calc_mutual_information(df, features, current_col):\n",
    "    rows = []\n",
    "    for i in features:\n",
    "        rows.append(normalized_mutual_info_score(df[current_col], df[i]))\n",
    "    return rows"
   ]
  },
  {
   "cell_type": "code",
   "execution_count": 7,
   "id": "5fb53471",
   "metadata": {},
   "outputs": [],
   "source": [
    "mutual_adhd = []\n",
    "mutual_control = []\n",
    "\n",
    "features = [\"Fz\" , \"Cz\", \"Pz\", \"C3\", \"T3\", \"C4\", \"T4\", \"Fp1\", \"Fp2\", \"F3\", \"F4\", \"F7\", \"F8\", \"P3\", \"P4\", \"T5\", \"T6\", \"O1\", \"O2\"]\n",
    "\n",
    "for i in range(len(adhd)):\n",
    "    child = adhd[i]\n",
    "    df = pd.DataFrame(child, columns=features)  \n",
    "    matrix = []\n",
    "    for i in features:\n",
    "        row = calc_mutual_information(df, features, i)\n",
    "        matrix.append(row)\n",
    "    final = pd.DataFrame(matrix, columns=features)\n",
    "    mutual_adhd.append(final)\n",
    "    \n",
    "for i in range(len(control)):\n",
    "    child = control[i]\n",
    "    df = pd.DataFrame(child, columns=features)   \n",
    "    matrix = []\n",
    "    for i in features:\n",
    "        row = calc_mutual_information(df, features, i)\n",
    "        matrix.append(row)\n",
    "    final = pd.DataFrame(matrix, columns=features)\n",
    "    mutual_control.append(final)\n"
   ]
  },
  {
   "cell_type": "markdown",
   "id": "b81f0afb",
   "metadata": {},
   "source": [
    "5)Calculating average mutual information for each column\n",
    "\n",
    "The average mutual information I(X; Y) is a measure of the amount of “information” that the random variables X and Y provide about one another. It denotes the average mutual information for each feature from every other features.\n",
    "\n",
    "Output : for every child 19-dimensional vector with average mutual information of each feature (19 features)."
   ]
  },
  {
   "cell_type": "code",
   "execution_count": 8,
   "id": "3aca6d30",
   "metadata": {},
   "outputs": [],
   "source": [
    "def average_mutual(group, features):\n",
    "    subjects = []\n",
    "    for i in range(len(group)):\n",
    "        child = group[i]\n",
    "        col_average = []\n",
    "        for column in features:\n",
    "            average = child[column].mean()\n",
    "            col_average.append(average)\n",
    "        subjects.append(col_average)\n",
    "    return subjects"
   ]
  },
  {
   "cell_type": "code",
   "execution_count": 9,
   "id": "c3ae545c",
   "metadata": {},
   "outputs": [],
   "source": [
    "subjects = []\n",
    "subjects.append(average_mutual(mutual_adhd,features))\n",
    "subjects.append(average_mutual(mutual_control,features))"
   ]
  },
  {
   "cell_type": "markdown",
   "id": "1e2736e0",
   "metadata": {},
   "source": [
    "6)Build the data set."
   ]
  },
  {
   "cell_type": "code",
   "execution_count": 10,
   "id": "dcd0bde0",
   "metadata": {},
   "outputs": [
    {
     "data": {
      "text/html": [
       "<div>\n",
       "<style scoped>\n",
       "    .dataframe tbody tr th:only-of-type {\n",
       "        vertical-align: middle;\n",
       "    }\n",
       "\n",
       "    .dataframe tbody tr th {\n",
       "        vertical-align: top;\n",
       "    }\n",
       "\n",
       "    .dataframe thead th {\n",
       "        text-align: right;\n",
       "    }\n",
       "</style>\n",
       "<table border=\"1\" class=\"dataframe\">\n",
       "  <thead>\n",
       "    <tr style=\"text-align: right;\">\n",
       "      <th></th>\n",
       "      <th>Fz</th>\n",
       "      <th>Fp1</th>\n",
       "      <th>Fp2</th>\n",
       "      <th>F3</th>\n",
       "      <th>F4</th>\n",
       "      <th>F7</th>\n",
       "      <th>F8</th>\n",
       "      <th>Class</th>\n",
       "    </tr>\n",
       "  </thead>\n",
       "  <tbody>\n",
       "    <tr>\n",
       "      <th>0</th>\n",
       "      <td>0.254842</td>\n",
       "      <td>0.121455</td>\n",
       "      <td>0.228140</td>\n",
       "      <td>0.119689</td>\n",
       "      <td>0.247716</td>\n",
       "      <td>0.138682</td>\n",
       "      <td>0.253258</td>\n",
       "      <td>1</td>\n",
       "    </tr>\n",
       "    <tr>\n",
       "      <th>1</th>\n",
       "      <td>0.190639</td>\n",
       "      <td>0.168243</td>\n",
       "      <td>0.127769</td>\n",
       "      <td>0.148559</td>\n",
       "      <td>0.170156</td>\n",
       "      <td>0.190432</td>\n",
       "      <td>0.169368</td>\n",
       "      <td>0</td>\n",
       "    </tr>\n",
       "    <tr>\n",
       "      <th>2</th>\n",
       "      <td>0.167687</td>\n",
       "      <td>0.154063</td>\n",
       "      <td>0.167344</td>\n",
       "      <td>0.131414</td>\n",
       "      <td>0.160936</td>\n",
       "      <td>0.148533</td>\n",
       "      <td>0.169020</td>\n",
       "      <td>0</td>\n",
       "    </tr>\n",
       "    <tr>\n",
       "      <th>3</th>\n",
       "      <td>0.161793</td>\n",
       "      <td>0.178400</td>\n",
       "      <td>0.168914</td>\n",
       "      <td>0.163307</td>\n",
       "      <td>0.172735</td>\n",
       "      <td>0.171937</td>\n",
       "      <td>0.186835</td>\n",
       "      <td>1</td>\n",
       "    </tr>\n",
       "    <tr>\n",
       "      <th>4</th>\n",
       "      <td>0.107716</td>\n",
       "      <td>0.118172</td>\n",
       "      <td>0.132474</td>\n",
       "      <td>0.088213</td>\n",
       "      <td>0.104596</td>\n",
       "      <td>0.103627</td>\n",
       "      <td>0.123782</td>\n",
       "      <td>0</td>\n",
       "    </tr>\n",
       "  </tbody>\n",
       "</table>\n",
       "</div>"
      ],
      "text/plain": [
       "         Fz       Fp1       Fp2        F3        F4        F7        F8  Class\n",
       "0  0.254842  0.121455  0.228140  0.119689  0.247716  0.138682  0.253258      1\n",
       "1  0.190639  0.168243  0.127769  0.148559  0.170156  0.190432  0.169368      0\n",
       "2  0.167687  0.154063  0.167344  0.131414  0.160936  0.148533  0.169020      0\n",
       "3  0.161793  0.178400  0.168914  0.163307  0.172735  0.171937  0.186835      1\n",
       "4  0.107716  0.118172  0.132474  0.088213  0.104596  0.103627  0.123782      0"
      ]
     },
     "execution_count": 10,
     "metadata": {},
     "output_type": "execute_result"
    }
   ],
   "source": [
    "adhd = pd.DataFrame(subjects[0], columns = features)\n",
    "adhd['Class'] = 0\n",
    "control = pd.DataFrame(subjects[1], columns = features)\n",
    "control['Class'] = 1\n",
    "EEG_data_set = pd.concat([adhd,control])\n",
    "EEG_data_set = EEG_data_set.sample(frac=1).reset_index(drop=True) #Shuffles the dataframe\n",
    "EEG_data_set = EEG_data_set.drop(['Cz', 'Pz','C3','T3','C4','T4','P3','P4','T5','T6','O1','O2'], axis=1)\n",
    "EEG_data_set.head()"
   ]
  },
  {
   "cell_type": "markdown",
   "id": "156c515b",
   "metadata": {},
   "source": [
    "# Classification\n",
    "\n",
    "2 models were tested: SVM and KNN.\n",
    "\n",
    "For both models, we are testing a vatious of parameters with sklearn.model_selection.GridSearchCV.\n",
    "GridSearchCV is exhaustive search over specified parameter values for an estimator.\n",
    "https://scikit-learn.org/stable/modules/generated/sklearn.model_selection.GridSearchCV.html"
   ]
  },
  {
   "cell_type": "code",
   "execution_count": 65,
   "id": "d246d0ed",
   "metadata": {},
   "outputs": [],
   "source": [
    "features = ['Fz', 'Fp1','Fp2','F3','F4','F7','F8']\n",
    "data = EEG_data_set[features]\n",
    "labels = EEG_data_set['Class']\n",
    "X_train, X_test, y_train, y_test = train_test_split(data, labels, test_size=0.2)"
   ]
  },
  {
   "cell_type": "code",
   "execution_count": 66,
   "id": "131f613d",
   "metadata": {},
   "outputs": [
    {
     "name": "stdout",
     "output_type": "stream",
     "text": [
      "Parameters {'C': 1.0, 'gamma': 'scale', 'kernel': 'rbf'}\n"
     ]
    }
   ],
   "source": [
    "parameters = {\n",
    "    \"C\": [0.01, 0.1, 1.],\n",
    "    \"kernel\": [\"linear\", \"poly\", \"rbf\", \"sigmoid\"],\n",
    "    \"gamma\": [\"scale\", \"auto\"],\n",
    "}\n",
    "model_svc = SVC(class_weight=\"balanced\",probability=True,)\n",
    "model_svc = GridSearchCV(model_svc, parameters, scoring='accuracy')\n",
    "model_svc.fit(X_train, y_train)\n",
    "print(f'Parameters {model_svc.best_params_}')"
   ]
  },
  {
   "cell_type": "code",
   "execution_count": 67,
   "id": "33ed311c",
   "metadata": {},
   "outputs": [],
   "source": [
    "svm_model = SVC(**model_svc.best_params_)\n",
    "svm_model.fit(X_train, y_train)\n",
    "svm_predictions = svm_model.predict(X_test)"
   ]
  },
  {
   "cell_type": "code",
   "execution_count": 68,
   "id": "53588b10",
   "metadata": {},
   "outputs": [
    {
     "name": "stdout",
     "output_type": "stream",
     "text": [
      "Score:  0.8\n"
     ]
    }
   ],
   "source": [
    "print(\"Score: \", svm_model.score(X_test, y_test))"
   ]
  },
  {
   "cell_type": "code",
   "execution_count": 69,
   "id": "db8ca669",
   "metadata": {},
   "outputs": [
    {
     "name": "stdout",
     "output_type": "stream",
     "text": [
      "Parameters {'metric': 'euclidean', 'n_neighbors': 5, 'weights': 'uniform'}\n"
     ]
    }
   ],
   "source": [
    "gridsearch_knn = {\n",
    "    'n_neighbors': [1, 2, 3, 4, 5, 6],\n",
    "    'weights': ['uniform', 'distance'],\n",
    "    'metric': ['euclidean', 'manhattan']\n",
    "}\n",
    "knn = GridSearchCV(KNeighborsClassifier(),gridsearch_knn, )\n",
    "knn_result = knn.fit(X_train, y_train)\n",
    "print(f'Parameters {knn_result.best_params_}')"
   ]
  },
  {
   "cell_type": "code",
   "execution_count": 70,
   "id": "431eb6e8",
   "metadata": {},
   "outputs": [
    {
     "name": "stdout",
     "output_type": "stream",
     "text": [
      "Score:  0.64\n"
     ]
    }
   ],
   "source": [
    "knn_model = KNeighborsClassifier(**knn_result.best_params_)\n",
    "knn_model.fit(X_train, y_train)\n",
    "knn_predictions = knn_model.predict(X_test)\n",
    "print(\"Score: \", knn_model.score(X_test, y_test))"
   ]
  },
  {
   "cell_type": "code",
   "execution_count": null,
   "id": "4ae47e18",
   "metadata": {},
   "outputs": [],
   "source": []
  }
 ],
 "metadata": {
  "kernelspec": {
   "display_name": "Python 3 (ipykernel)",
   "language": "python",
   "name": "python3"
  },
  "language_info": {
   "codemirror_mode": {
    "name": "ipython",
    "version": 3
   },
   "file_extension": ".py",
   "mimetype": "text/x-python",
   "name": "python",
   "nbconvert_exporter": "python",
   "pygments_lexer": "ipython3",
   "version": "3.9.7"
  }
 },
 "nbformat": 4,
 "nbformat_minor": 5
}
